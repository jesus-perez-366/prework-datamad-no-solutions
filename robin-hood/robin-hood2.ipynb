{
 "cells": [
  {
   "cell_type": "markdown",
   "metadata": {},
   "source": [
    "# Robin Hood\n",
    "## Intro\n",
    "We are in a competition to win the archery contest in Sherwood. With our bow and arrows we shoot on a target and try to hit as close as possible to the center.\n",
    "\n",
    "The center of the target is represented by the values (0, 0) on the coordinate axes.\n",
    "\n",
    "![](images/arrows.jpg)\n",
    "\n",
    "## Goals:\n",
    "* data structures: lists, sets, tuples\n",
    "* logical operators: if-elif-else\n",
    "* loop: while/for\n",
    "* minimum (optional sorting)\n",
    "\n",
    "## Description:\n",
    "In the 2-dimensional space, a point can be defined by a pair of values that correspond to the horizontal coordinate (x) and the vertical coordinate (y). The space can be divided into 4 zones (quadrants): Q1, Q2, Q3, Q4. Whose single point of union is the point (0, 0).\n",
    "\n",
    "If a point is in Q1 both its x coordinate and the y are positive. I leave a link to wikipedia to familiarize yourself with these quadrants.\n",
    "\n",
    "https://en.wikipedia.org/wiki/Cartesian_coordinate_system\n",
    "\n",
    "https://en.wikipedia.org/wiki/Euclidean_distance\n",
    "\n",
    "## Shots\n",
    "```\n",
    "points = [(4, 5), (-0, 2), (4, 7), (1, -3), (3, -2), (4, 5),\n",
    "          (3, 2), (5, 7), (-5, 7), (2, 2), (-4, 5), (0, -2),\n",
    "          (-4, 7), (-1, 3), (-3, 2), (-4, -5), (-3, 2),\n",
    "          (5, 7), (5, 7), (2, 2), (9, 9), (-8, -9)]\n",
    "```\n",
    "\n",
    "## Tasks\n",
    "1. Robin Hood is famous for hitting an arrow with another arrow. Did you get it?\n",
    "2. Calculate how many arrows have fallen in each quadrant.\n",
    "3. Find the point closest to the center. Calculate its distance to the center. \n",
    "4. If the target has a radius of 9, calculate the number of arrows that must be picked up in the forest."
   ]
  },
  {
   "cell_type": "code",
   "execution_count": 1,
   "metadata": {},
   "outputs": [],
   "source": [
    "# Variables\n",
    "\n",
    "points = [(4, 5), (-0, 2), (4, 7), (1, -3), (3, -2), (4, 5),\n",
    "          (3, 2), (5, 7), (-5, 7), (2, 2), (-4, 5), (0, -2),\n",
    "          (-4, 7), (-1, 3), (-3, 2), (-4, -5), (-3, 2),\n",
    "          (5, 7), (5, 7), (2, 2), (9, 9), (-8, -9)]"
   ]
  },
  {
   "cell_type": "code",
   "execution_count": 2,
   "metadata": {},
   "outputs": [
    {
     "name": "stdout",
     "output_type": "stream",
     "text": [
      "hola\n",
      "esta son las coordenadas donde Robin Hood acerto mas de una fecha en el mismo lugar [(-3, 2), (4, 5), (5, 7), (2, 2)]\n"
     ]
    }
   ],
   "source": [
    "# 1. Robin Hood is famous for hitting an arrow with another arrow. Did you get it?\n",
    "\n",
    "print(\"hola\")\n",
    "x=len(points)\n",
    "another_arrow=[]\n",
    "i=0\n",
    "z=0\n",
    "for i in range(0,x-1):\n",
    "    for z in range(i,x-1):\n",
    "        if points[i]==points[z+1]:\n",
    "            another_arrow.append(points[i])\n",
    "coordenadas=set(another_arrow)\n",
    "   \n",
    "print(\"esta son las coordenadas donde Robin Hood acerto mas de una fecha en el mismo lugar\", list(coordenadas))\n"
   ]
  },
  {
   "cell_type": "markdown",
   "metadata": {},
   "source": [
    "**Expected output**:\n",
    "```\n",
    "True\n",
    "```"
   ]
  },
  {
   "cell_type": "code",
   "execution_count": 3,
   "metadata": {},
   "outputs": [
    {
     "name": "stdout",
     "output_type": "stream",
     "text": [
      "disparo  10 flechas en el primero cuadrante\n",
      "disparo  6 flechas en el segundo cuadrante\n",
      "disparo  2 flechas en el tercero cuadrante\n",
      "disparo  2 flechas en el cuarto cuadrante\n"
     ]
    }
   ],
   "source": [
    "# 2. Calculate how many arrows have fallen in each quadrant.\n",
    "\n",
    "Primer_cuadrante=0\n",
    "Segundo_cuadrante=0\n",
    "Tercer_cuadrante=0\n",
    "Cuarto_cuadrante=0\n",
    "\n",
    "for i in range(0,x):\n",
    "    if points[i][0] > 0 and points[i][1] > 0:\n",
    "        Primer_cuadrante+=1\n",
    "    elif points[i][0] < 0 and points[i][1] > 0:\n",
    "        Segundo_cuadrante+=1\n",
    "    elif points[i][0] < 0 and points[i][1] < 0:\n",
    "        Tercer_cuadrante+=1\n",
    "    elif points[i][0] > 0 and points[i][1] < 0:\n",
    "        Cuarto_cuadrante+=1\n",
    "        \n",
    "print(\"disparo \",Primer_cuadrante, \"flechas en el primero cuadrante\")\n",
    "print(\"disparo \",Segundo_cuadrante, \"flechas en el segundo cuadrante\")\n",
    "print(\"disparo \",Tercer_cuadrante, \"flechas en el tercero cuadrante\")\n",
    "print(\"disparo \",Cuarto_cuadrante, \"flechas en el cuarto cuadrante\")\n"
   ]
  },
  {
   "cell_type": "markdown",
   "metadata": {},
   "source": [
    "**Expected output**:\n",
    "```\n",
    "(10, 6, 2, 2)\n",
    "```"
   ]
  },
  {
   "cell_type": "code",
   "execution_count": 4,
   "metadata": {},
   "outputs": [
    {
     "name": "stdout",
     "output_type": "stream",
     "text": [
      "la distancia mas cercana del centro a las flechas es de  2.0\n",
      "los puntos mas cercanos al centro son estos  [(0, 2), (0, -2)]\n"
     ]
    }
   ],
   "source": [
    "# 3. Find the point closest to the center. Calculate its distance to the center\n",
    "# Defining a function that calculates the distance to the center can help.\n",
    "\n",
    "import math\n",
    "dist=[]\n",
    "for i in range(0,x):\n",
    "    d = math.sqrt((points[i][0]**2)+(points[i][1]**2))\n",
    "    dist.append(d)\n",
    "u=min(dist)\n",
    "print(\"la distancia mas cercana del centro a las flechas es de \",u)\n",
    "Point_near=[]\n",
    "\n",
    "for i in range (0,x):\n",
    "    if u == dist[i]:\n",
    "        Point_near.append(points[i])\n",
    "print(\"los puntos mas cercanos al centro son estos \",Point_near)\n"
   ]
  },
  {
   "cell_type": "markdown",
   "metadata": {},
   "source": [
    "**Expected output**:\n",
    "```\n",
    "(0, 2)\n",
    "2.0\n",
    "```"
   ]
  },
  {
   "cell_type": "code",
   "execution_count": 5,
   "metadata": {},
   "outputs": [
    {
     "name": "stdout",
     "output_type": "stream",
     "text": [
      "(9, 9)\n",
      "(-8, -9)\n",
      "Robin Hood fallo  2 veces\n"
     ]
    }
   ],
   "source": [
    "# 4. If the target has a radius of 9, calculate the number of arrows that \n",
    "# must be picked up in the forest.\n",
    "\n",
    "arrows_out_target=0\n",
    "for i in range (0,x):\n",
    "    if dist[i] > 9:\n",
    "        arrows_out_target+=1\n",
    "        print(points[i])\n",
    "print(\"Robin Hood fallo \",arrows_out_target,\"veces\")\n"
   ]
  },
  {
   "cell_type": "markdown",
   "metadata": {},
   "source": [
    "**Expected output**:\n",
    "```\n",
    "[(9, 9), (-8, -9)]\n",
    "2\n",
    "```"
   ]
  },
  {
   "cell_type": "code",
   "execution_count": null,
   "metadata": {},
   "outputs": [],
   "source": []
  }
 ],
 "metadata": {
  "kernelspec": {
   "display_name": "Python 3",
   "language": "python",
   "name": "python3"
  },
  "language_info": {
   "codemirror_mode": {
    "name": "ipython",
    "version": 3
   },
   "file_extension": ".py",
   "mimetype": "text/x-python",
   "name": "python",
   "nbconvert_exporter": "python",
   "pygments_lexer": "ipython3",
   "version": "3.8.3"
  }
 },
 "nbformat": 4,
 "nbformat_minor": 2
}
