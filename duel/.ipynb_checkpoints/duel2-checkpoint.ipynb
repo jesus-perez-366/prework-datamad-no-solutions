{
 "cells": [
  {
   "cell_type": "markdown",
   "metadata": {},
   "source": [
    "# Duel of sorcerers\n",
    "## Intro\n",
    "You are witnessing an epic battle between two powerful sorcerers: Gandalf and Saruman. Each sorcerer has 10 spells of variable power in their mind and they are going to throw them one after the other. The winner of the duel will be the one who wins more of those clashes between spells. Spells are represented as a list of 10 integers whose value equals the power of the spell.\n",
    "```\n",
    "gandalf = [10, 11, 13, 30, 22, 11, 10, 33, 22, 22]\n",
    "saruman = [23, 66, 12, 43, 12, 10, 44, 23, 12, 17]\n",
    "```\n",
    "For example:\n",
    "1. The first clash is won by Saruman: 10 against 23, wins 23\n",
    "2. The second clash wins Saruman: 11 against 66, wins 66\n",
    "3. etc.\n",
    "\n",
    "\n",
    "You will create two variables, one for each sorcerer, where the sum of clashes won will be stored. Depending on which variable is greater at the end of the duel, you will show one of the following three results on the screen:\n",
    "* Gandalf wins\n",
    "* Saruman wins\n",
    "* Tie\n",
    "\n",
    "<img src=\"images/content_lightning_bolt_big.jpg\" width=\"400\">\n",
    "\n",
    "## LINKS: \n",
    "* zip: https://www.programiz.com/python-programming/methods/built-in/zip"
   ]
  },
  {
   "cell_type": "markdown",
   "metadata": {},
   "source": [
    "## Solution"
   ]
  },
  {
   "cell_type": "code",
   "execution_count": 1,
   "metadata": {},
   "outputs": [],
   "source": [
    "# Assign spell power lists to variables\n",
    "gandalf = [10, 11, 13, 30, 22, 11, 10, 33, 22, 22]\n",
    "saruman = [23, 66, 12, 43, 12, 10, 44, 23, 12, 17]\n",
    "spells = []"
   ]
  },
  {
   "cell_type": "code",
   "execution_count": 2,
   "metadata": {},
   "outputs": [],
   "source": [
    "# Assign 0 to each variable that stores the victories\n",
    "gandalf_wins=0\n",
    "saruman_wins=0"
   ]
  },
  {
   "cell_type": "code",
   "execution_count": 3,
   "metadata": {},
   "outputs": [
    {
     "name": "stdout",
     "output_type": "stream",
     "text": [
      "6\n",
      "4\n"
     ]
    }
   ],
   "source": [
    "# Execution of spell clashes\n",
    "\n",
    "for i in range(0,10):\n",
    "    spells.append(gandalf[i]-saruman[i])\n",
    "    if spells[i] > 0:\n",
    "        gandalf_wins+=1\n",
    "    elif spells[i] < 0:\n",
    "        saruman_wins+=1\n",
    "        \n",
    "print(gandalf_wins)\n",
    "print(saruman_wins)\n"
   ]
  },
  {
   "cell_type": "markdown",
   "metadata": {},
   "source": [
    "**Expected output**:\n",
    "```\n",
    "6\n",
    "4\n",
    "```"
   ]
  },
  {
   "cell_type": "code",
   "execution_count": 4,
   "metadata": {},
   "outputs": [
    {
     "name": "stdout",
     "output_type": "stream",
     "text": [
      "gandals wins\n"
     ]
    }
   ],
   "source": [
    "# We check who has won, do not forget the possibility of a draw.\n",
    "# Print the result based on the winner.\n",
    "\n",
    "if gandalf_wins > saruman_wins:\n",
    "    print(\"gandals wins\")\n",
    "elif gandalf_wins < saruman_wins:\n",
    "    print(\"saruman_wins\")\n",
    "else:\n",
    "    print(\"Tie\")\n"
   ]
  },
  {
   "cell_type": "markdown",
   "metadata": {},
   "source": [
    "**Expected output**:\n",
    "```\n",
    "Gandalf wins\n",
    "```"
   ]
  },
  {
   "cell_type": "markdown",
   "metadata": {},
   "source": [
    "## Goals\n",
    "\n",
    "1. Treatment of lists\n",
    "2. Use of **for loop**\n",
    "3. Use of conditional **if-elif-else**\n",
    "4. Use of the functions **range(), len()**\n",
    "5. print()\n",
    "6. zip()"
   ]
  },
  {
   "cell_type": "markdown",
   "metadata": {},
   "source": [
    "## Bonus\n",
    "\n",
    "1. Spells now have a name and there is a dictionary that relates that name to a power.\n",
    "2. A sorcerer wins if he succeeds in winning 3 spell clashes in a row.\n",
    "3. Average of each of the spell lists.\n",
    "4. Standard deviation of each of the spell lists.\n",
    "\n",
    "```\n",
    "POWER = {\n",
    "    'Fireball': 50, \n",
    "    'Lightning bolt': 40, \n",
    "    'Magic arrow': 10, \n",
    "    'Black Tentacles': 25, \n",
    "    'Contagion': 45\n",
    "}\n",
    "\n",
    "gandalf = ['Fireball', 'Lightning bolt', 'Lightning bolt', 'Magic arrow', 'Fireball', \n",
    "           'Magic arrow', 'Lightning bolt', 'Fireball', 'Fireball', 'Fireball']\n",
    "saruman = ['Contagion', 'Contagion', 'Black Tentacles', 'Fireball', 'Black Tentacles', \n",
    "           'Lightning bolt', 'Magic arrow', 'Contagion', 'Magic arrow', 'Magic arrow']\n",
    "```\n",
    "\n",
    "Good luck!"
   ]
  },
  {
   "cell_type": "code",
   "execution_count": 5,
   "metadata": {},
   "outputs": [],
   "source": [
    "# 1. Spells now have a name and there is a dictionary that relates that name to a power.\n",
    "# variables\n",
    "\n",
    "POWER = {\n",
    "    'Fireball': 50, \n",
    "    'Lightning bolt': 40, \n",
    "    'Magic arrow': 10, \n",
    "    'Black Tentacles': 25, \n",
    "    'Contagion': 45\n",
    "}\n",
    "\n",
    "gandalf = ['Fireball', 'Lightning bolt', 'Lightning bolt', 'Magic arrow', 'Fireball', \n",
    "           'Magic arrow', 'Lightning bolt', 'Fireball', 'Magic arrow', 'Fireball']\n",
    "saruman = ['Contagion', 'Contagion', 'Black Tentacles', 'Fireball', 'Black Tentacles', \n",
    "           'Lightning bolt', 'Magic arrow', 'Contagion', 'Magic arrow', 'Magic arrow']\n",
    "\n",
    "spells = []"
   ]
  },
  {
   "cell_type": "code",
   "execution_count": 6,
   "metadata": {},
   "outputs": [
    {
     "name": "stdout",
     "output_type": "stream",
     "text": [
      "[50, 40, 40, 10, 50, 10, 40, 50, 10, 50]\n",
      "[45, 45, 25, 50, 25, 40, 10, 45, 10, 10]\n"
     ]
    }
   ],
   "source": [
    "# Assign spell power lists to variables\n",
    "\n",
    "gandalf_wins=0\n",
    "saruman_wins=0\n",
    "gandalf_power=[]\n",
    "saruman_power=[]\n",
    "for i in range(0,10):\n",
    "    gandalf_power.append(POWER[gandalf[i]])\n",
    "    saruman_power.append(POWER[saruman[i]])\n",
    "print(gandalf_power)\n",
    "print(saruman_power)\n"
   ]
  },
  {
   "cell_type": "markdown",
   "metadata": {},
   "source": [
    "**Expected output**:\n",
    "```\n",
    "([50, 40, 40, 10, 50, 10, 40, 50, 10, 50],\n",
    " [45, 45, 25, 50, 25, 40, 10, 45, 10, 10])\n",
    " ```"
   ]
  },
  {
   "cell_type": "code",
   "execution_count": 7,
   "metadata": {},
   "outputs": [
    {
     "name": "stdout",
     "output_type": "stream",
     "text": [
      "gandals wins\n"
     ]
    }
   ],
   "source": [
    "# 2. A sorcerer wins if he succeeds in winning 3 spell clashes in a row.\n",
    "\n",
    "\n",
    "\n",
    "# Execution of spell clashes\n",
    "\n",
    "# check clashes\n",
    "\n",
    "# check for 3 wins in a row\n",
    "\n",
    "# check the winner\n",
    "\n",
    "# count sum of clashes\n",
    "\n",
    "seguida_gandalf=0\n",
    "seguida_saruman=0\n",
    "z=0\n",
    "\n",
    "while (z <= 9) and (seguida_gandalf < 3) and (seguida_saruman < 3):\n",
    "\n",
    "  \n",
    "        x= gandalf_power[z] - saruman_power[z]\n",
    "        spells.append(x)\n",
    "      \n",
    "       \n",
    "        \n",
    "        if x > 0:\n",
    "            gandalf_wins+=1\n",
    "            seguida_gandalf= seguida_gandalf + 1\n",
    "            seguida_saruman= 0\n",
    "          \n",
    "        \n",
    "        elif x < 0:\n",
    "            saruman_wins+=1  \n",
    "            seguida_gandalf= 0\n",
    "            seguida_saruman= seguida_saruman + 1\n",
    "            \n",
    "        z=z+1\n",
    "        \n",
    "if gandalf_wins > saruman_wins or seguida_gandalf == 3 :\n",
    "    print(\"gandals wins\")\n",
    "elif gandalf_wins < saruman_wins or seguida_saruman == 3:\n",
    "    print(\"saruman_wins\")\n",
    "else:\n",
    "    print(\"Tie\")\n"
   ]
  },
  {
   "cell_type": "markdown",
   "metadata": {},
   "source": [
    "**Expected output**:\n",
    "```\n",
    "Gandalf wins\n",
    "```"
   ]
  },
  {
   "cell_type": "code",
   "execution_count": 8,
   "metadata": {},
   "outputs": [
    {
     "name": "stdout",
     "output_type": "stream",
     "text": [
      "the average spell power of Gandalf 35.0\n",
      "the average spell power of Saruman 30.5\n"
     ]
    }
   ],
   "source": [
    "# 3. Average of each of the spell lists.\n",
    "\n",
    "x = sum(gandalf_power)/len(gandalf_power)\n",
    "y = sum(saruman_power)/len(saruman_power)\n",
    "print(\"the average spell power of Gandalf\",x)\n",
    "print(\"the average spell power of Saruman\",y)\n"
   ]
  },
  {
   "cell_type": "markdown",
   "metadata": {},
   "source": [
    "**Expected output**:\n",
    "```\n",
    "35.0\n",
    "30.5\n",
    "```"
   ]
  },
  {
   "cell_type": "code",
   "execution_count": 9,
   "metadata": {},
   "outputs": [
    {
     "name": "stdout",
     "output_type": "stream",
     "text": [
      "la desviacion estandar de gandalf es 16.881943016134134\n",
      "la desviacion estandar de saruman es 15.56438241627338\n"
     ]
    }
   ],
   "source": [
    "# 4. Standard deviation of each of the spell lists.\n",
    "\n",
    "import math\n",
    "g=0\n",
    "s=0\n",
    "for p in range (0,i+1):\n",
    "    g+=(gandalf_power[p]-x)**2\n",
    "    s+=(saruman_power [p]-y)**2\n",
    "g=g/len(gandalf_power)\n",
    "s=s/len(saruman_power)\n",
    "print(\"la desviacion estandar de gandalf es\",math.sqrt(g))\n",
    "print(\"la desviacion estandar de saruman es\",math.sqrt(s))\n"
   ]
  },
  {
   "cell_type": "markdown",
   "metadata": {},
   "source": [
    "**Expected output**:\n",
    "```\n",
    "16.881943016134134\n",
    "15.56438241627338\n",
    "```"
   ]
  },
  {
   "cell_type": "code",
   "execution_count": null,
   "metadata": {},
   "outputs": [],
   "source": []
  }
 ],
 "metadata": {
  "kernelspec": {
   "display_name": "Python 3",
   "language": "python",
   "name": "python3"
  },
  "language_info": {
   "codemirror_mode": {
    "name": "ipython",
    "version": 3
   },
   "file_extension": ".py",
   "mimetype": "text/x-python",
   "name": "python",
   "nbconvert_exporter": "python",
   "pygments_lexer": "ipython3",
   "version": "3.8.3"
  }
 },
 "nbformat": 4,
 "nbformat_minor": 2
}
